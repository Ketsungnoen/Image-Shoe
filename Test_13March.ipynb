{
  "cells": [
    {
      "cell_type": "code",
      "execution_count": 1,
      "id": "f02ebc2f",
      "metadata": {
        "colab": {
          "base_uri": "https://localhost:8080/"
        },
        "id": "f02ebc2f",
        "outputId": "6c1fd225-304a-4f8a-d5da-f64b2359d04c"
      },
      "outputs": [
        {
          "output_type": "stream",
          "name": "stdout",
          "text": [
            "/bin/bash: line 1: nvidia-smi: command not found\n"
          ]
        }
      ],
      "source": [
        "!nvidia-smi"
      ]
    },
    {
      "cell_type": "code",
      "execution_count": 2,
      "id": "d6fab360",
      "metadata": {
        "id": "d6fab360"
      },
      "outputs": [],
      "source": [
        "%reload_ext autoreload\n",
        "%autoreload 2\n",
        "%matplotlib inline"
      ]
    },
    {
      "cell_type": "code",
      "execution_count": 3,
      "id": "9932cea0",
      "metadata": {
        "colab": {
          "base_uri": "https://localhost:8080/"
        },
        "id": "9932cea0",
        "outputId": "3a6f8025-a1e6-4405-d583-922032125557"
      },
      "outputs": [
        {
          "output_type": "stream",
          "name": "stdout",
          "text": [
            "\u001b[2K     \u001b[90m━━━━━━━━━━━━━━━━━━━━━━━━━━━━━━━━━━━━━━━━\u001b[0m \u001b[32m719.8/719.8 kB\u001b[0m \u001b[31m8.6 MB/s\u001b[0m eta \u001b[36m0:00:00\u001b[0m\n",
            "\u001b[2K     \u001b[90m━━━━━━━━━━━━━━━━━━━━━━━━━━━━━━━━━━━━━━━━\u001b[0m \u001b[32m507.1/507.1 kB\u001b[0m \u001b[31m27.8 MB/s\u001b[0m eta \u001b[36m0:00:00\u001b[0m\n",
            "\u001b[2K     \u001b[90m━━━━━━━━━━━━━━━━━━━━━━━━━━━━━━━━━━━━━━━━\u001b[0m \u001b[32m1.3/1.3 MB\u001b[0m \u001b[31m33.6 MB/s\u001b[0m eta \u001b[36m0:00:00\u001b[0m\n",
            "\u001b[2K     \u001b[90m━━━━━━━━━━━━━━━━━━━━━━━━━━━━━━━━━━━━━━━━\u001b[0m \u001b[32m115.3/115.3 kB\u001b[0m \u001b[31m10.0 MB/s\u001b[0m eta \u001b[36m0:00:00\u001b[0m\n",
            "\u001b[2K     \u001b[90m━━━━━━━━━━━━━━━━━━━━━━━━━━━━━━━━━━━━━━━━\u001b[0m \u001b[32m134.8/134.8 kB\u001b[0m \u001b[31m11.5 MB/s\u001b[0m eta \u001b[36m0:00:00\u001b[0m\n",
            "\u001b[2K     \u001b[90m━━━━━━━━━━━━━━━━━━━━━━━━━━━━━━━━━━━━━━━━\u001b[0m \u001b[32m1.6/1.6 MB\u001b[0m \u001b[31m41.4 MB/s\u001b[0m eta \u001b[36m0:00:00\u001b[0m\n",
            "\u001b[?25hMounted at /content/gdrive\n"
          ]
        }
      ],
      "source": [
        "!pip install -Uqq fastbook\n",
        "import fastbook\n",
        "fastbook.setup_book()"
      ]
    },
    {
      "cell_type": "code",
      "execution_count": 4,
      "id": "1e786ce4",
      "metadata": {
        "id": "1e786ce4"
      },
      "outputs": [],
      "source": [
        "from fastbook import *"
      ]
    },
    {
      "cell_type": "code",
      "execution_count": 5,
      "id": "13c0705b",
      "metadata": {
        "id": "13c0705b"
      },
      "outputs": [],
      "source": [
        "np.random.seed(5555)"
      ]
    },
    {
      "cell_type": "code",
      "execution_count": 7,
      "id": "74d6d1e2",
      "metadata": {
        "colab": {
          "base_uri": "https://localhost:8080/",
          "height": 36
        },
        "id": "74d6d1e2",
        "outputId": "fa3e3221-e227-4d1c-d65b-7aa545685c9d"
      },
      "outputs": [
        {
          "output_type": "execute_result",
          "data": {
            "text/plain": [
              "'/content'"
            ],
            "application/vnd.google.colaboratory.intrinsic+json": {
              "type": "string"
            }
          },
          "metadata": {},
          "execution_count": 7
        }
      ],
      "source": [
        "pwd"
      ]
    },
    {
      "cell_type": "code",
      "execution_count": 9,
      "id": "937cd64c",
      "metadata": {
        "colab": {
          "base_uri": "https://localhost:8080/",
          "height": 36
        },
        "id": "937cd64c",
        "outputId": "1a5d9341-7300-49fa-cb3d-128d03c62f0f"
      },
      "outputs": [
        {
          "output_type": "execute_result",
          "data": {
            "text/plain": [
              "'/content/gdrive/MyDrive/Shoeprint'"
            ],
            "application/vnd.google.colaboratory.intrinsic+json": {
              "type": "string"
            }
          },
          "metadata": {},
          "execution_count": 9
        }
      ],
      "source": [
        "# path =  (\"C:\\\\Users\\\\Oranuch\\\\Documents\\\\Python project\\\\shoe\")\n",
        "path = (\"/content/gdrive/MyDrive/Shoeprint\")\n",
        "path"
      ]
    },
    {
      "cell_type": "code",
      "execution_count": 10,
      "id": "31c536c2",
      "metadata": {
        "colab": {
          "base_uri": "https://localhost:8080/"
        },
        "id": "31c536c2",
        "outputId": "16d269e3-8602-4dbd-b4ef-5ec69d67c9cf"
      },
      "outputs": [
        {
          "output_type": "execute_result",
          "data": {
            "text/plain": [
              "(#39) [Path('/content/gdrive/MyDrive/Shoeprint/Levis/Le_1.jpg'),Path('/content/gdrive/MyDrive/Shoeprint/Levis/Le_2.jpg'),Path('/content/gdrive/MyDrive/Shoeprint/Nike/N_1.jpg'),Path('/content/gdrive/MyDrive/Shoeprint/Nike/N_2.jpg'),Path('/content/gdrive/MyDrive/Shoeprint/Nike/N_3.jpg'),Path('/content/gdrive/MyDrive/Shoeprint/Nike/N_4.JPG'),Path('/content/gdrive/MyDrive/Shoeprint/Nike/N_5.JPG'),Path('/content/gdrive/MyDrive/Shoeprint/Nike/N_7.JPG'),Path('/content/gdrive/MyDrive/Shoeprint/Nike/N_8.JPG'),Path('/content/gdrive/MyDrive/Shoeprint/Nike/N_9.JPG')...]"
            ]
          },
          "metadata": {},
          "execution_count": 10
        }
      ],
      "source": [
        "fnames = get_image_files(path)\n",
        "fnames"
      ]
    },
    {
      "cell_type": "code",
      "execution_count": null,
      "id": "3ca9a081",
      "metadata": {
        "id": "3ca9a081",
        "outputId": "cac26de5-b895-49cb-b69b-f63a753513c7"
      },
      "outputs": [
        {
          "data": {
            "text/plain": [
              "['C:\\\\Users\\\\Oranuch\\\\Documents\\\\Python project\\\\shoe\\\\A']"
            ]
          },
          "execution_count": 90,
          "metadata": {},
          "output_type": "execute_result"
        }
      ],
      "source": [
        "pat = r\"([^/]+)_\\d+.*$\"\n",
        "re.findall(pat, str(fnames[0]))"
      ]
    },
    {
      "cell_type": "code",
      "execution_count": null,
      "id": "5f684bfe",
      "metadata": {
        "id": "5f684bfe"
      },
      "outputs": [],
      "source": [
        "item_tfms = RandomResizedCrop(460, min_scale=0.8, ratio=(1., 1.))"
      ]
    },
    {
      "cell_type": "code",
      "execution_count": null,
      "id": "9e77d285",
      "metadata": {
        "id": "9e77d285"
      },
      "outputs": [],
      "source": [
        "batch_tfms = [*aug_transforms(size=224, max_warp=0.15), Normalize.from_stats(*imagenet_stats)]"
      ]
    },
    {
      "cell_type": "code",
      "execution_count": null,
      "id": "081df39a-d6dd-446d-8c70-45ef0bf6e99e",
      "metadata": {
        "id": "081df39a-d6dd-446d-8c70-45ef0bf6e99e",
        "outputId": "e566609a-39c7-4c51-af48-b5238681d0b1"
      },
      "outputs": [
        {
          "data": {
            "text/plain": [
              "\u001b[1;31mInit signature:\u001b[0m\n",
              "\u001b[0mRandomResizedCrop\u001b[0m\u001b[1;33m(\u001b[0m\u001b[1;33m\n",
              "\u001b[0m    \u001b[0mself\u001b[0m\u001b[1;33m,\u001b[0m\u001b[1;33m\n",
              "\u001b[0m    \u001b[0msize\u001b[0m\u001b[1;33m:\u001b[0m \u001b[1;34m'int | tuple'\u001b[0m\u001b[1;33m,\u001b[0m\u001b[1;33m\n",
              "\u001b[0m    \u001b[0mmin_scale\u001b[0m\u001b[1;33m:\u001b[0m \u001b[1;34m'float'\u001b[0m \u001b[1;33m=\u001b[0m \u001b[1;36m0.08\u001b[0m\u001b[1;33m,\u001b[0m\u001b[1;33m\n",
              "\u001b[0m    \u001b[0mratio\u001b[0m\u001b[1;33m=\u001b[0m\u001b[1;33m(\u001b[0m\u001b[1;36m0.75\u001b[0m\u001b[1;33m,\u001b[0m \u001b[1;36m1.3333333333333333\u001b[0m\u001b[1;33m)\u001b[0m\u001b[1;33m,\u001b[0m\u001b[1;33m\n",
              "\u001b[0m    \u001b[0mresamples\u001b[0m\u001b[1;33m=\u001b[0m\u001b[1;33m(\u001b[0m\u001b[1;36m2\u001b[0m\u001b[1;33m,\u001b[0m \u001b[1;36m0\u001b[0m\u001b[1;33m)\u001b[0m\u001b[1;33m,\u001b[0m\u001b[1;33m\n",
              "\u001b[0m    \u001b[0mval_xtra\u001b[0m\u001b[1;33m:\u001b[0m \u001b[1;34m'float'\u001b[0m \u001b[1;33m=\u001b[0m \u001b[1;36m0.14\u001b[0m\u001b[1;33m,\u001b[0m\u001b[1;33m\n",
              "\u001b[0m    \u001b[0mmax_scale\u001b[0m\u001b[1;33m:\u001b[0m \u001b[1;34m'float'\u001b[0m \u001b[1;33m=\u001b[0m \u001b[1;36m1.0\u001b[0m\u001b[1;33m,\u001b[0m\u001b[1;33m\n",
              "\u001b[0m    \u001b[1;33m**\u001b[0m\u001b[0mkwargs\u001b[0m\u001b[1;33m,\u001b[0m\u001b[1;33m\n",
              "\u001b[0m\u001b[1;33m)\u001b[0m\u001b[1;33m\u001b[0m\u001b[1;33m\u001b[0m\u001b[0m\n",
              "\u001b[1;31mSource:\u001b[0m        \n",
              "\u001b[1;33m@\u001b[0m\u001b[0mdelegates\u001b[0m\u001b[1;33m(\u001b[0m\u001b[1;33m)\u001b[0m\u001b[1;33m\n",
              "\u001b[0m\u001b[1;32mclass\u001b[0m \u001b[0mRandomResizedCrop\u001b[0m\u001b[1;33m(\u001b[0m\u001b[0mRandTransform\u001b[0m\u001b[1;33m)\u001b[0m\u001b[1;33m:\u001b[0m\u001b[1;33m\n",
              "\u001b[0m    \u001b[1;34m\"Picks a random scaled crop of an image and resize it to `size`\"\u001b[0m\u001b[1;33m\n",
              "\u001b[0m    \u001b[0msplit_idx\u001b[0m\u001b[1;33m,\u001b[0m\u001b[0morder\u001b[0m \u001b[1;33m=\u001b[0m \u001b[1;32mNone\u001b[0m\u001b[1;33m,\u001b[0m\u001b[1;36m1\u001b[0m\u001b[1;33m\n",
              "\u001b[0m    \u001b[1;32mdef\u001b[0m \u001b[0m__init__\u001b[0m\u001b[1;33m(\u001b[0m\u001b[0mself\u001b[0m\u001b[1;33m,\u001b[0m \u001b[1;33m\n",
              "\u001b[0m         \u001b[0msize\u001b[0m\u001b[1;33m:\u001b[0m\u001b[0mint\u001b[0m\u001b[1;33m|\u001b[0m\u001b[0mtuple\u001b[0m\u001b[1;33m,\u001b[0m \u001b[1;31m# Final size, duplicated if one value is specified,, \u001b[0m\u001b[1;33m\n",
              "\u001b[0m         \u001b[0mmin_scale\u001b[0m\u001b[1;33m:\u001b[0m\u001b[0mfloat\u001b[0m\u001b[1;33m=\u001b[0m\u001b[1;36m0.08\u001b[0m\u001b[1;33m,\u001b[0m \u001b[1;31m# Minimum scale of the crop, in relation to image area\u001b[0m\u001b[1;33m\n",
              "\u001b[0m         \u001b[0mratio\u001b[0m\u001b[1;33m=\u001b[0m\u001b[1;33m(\u001b[0m\u001b[1;36m3\u001b[0m\u001b[1;33m/\u001b[0m\u001b[1;36m4\u001b[0m\u001b[1;33m,\u001b[0m \u001b[1;36m4\u001b[0m\u001b[1;33m/\u001b[0m\u001b[1;36m3\u001b[0m\u001b[1;33m)\u001b[0m\u001b[1;33m,\u001b[0m \u001b[1;31m# Range of width over height of the output\u001b[0m\u001b[1;33m\n",
              "\u001b[0m         \u001b[0mresamples\u001b[0m\u001b[1;33m=\u001b[0m\u001b[1;33m(\u001b[0m\u001b[0mBILINEAR\u001b[0m\u001b[1;33m,\u001b[0m \u001b[0mNEAREST\u001b[0m\u001b[1;33m)\u001b[0m\u001b[1;33m,\u001b[0m \u001b[1;31m# Pillow `Image` resample mode, resamples[1] for mask\u001b[0m\u001b[1;33m\n",
              "\u001b[0m         \u001b[0mval_xtra\u001b[0m\u001b[1;33m:\u001b[0m\u001b[0mfloat\u001b[0m\u001b[1;33m=\u001b[0m\u001b[1;36m0.14\u001b[0m\u001b[1;33m,\u001b[0m \u001b[1;31m# The ratio of size at the edge cropped out in the validation set\u001b[0m\u001b[1;33m\n",
              "\u001b[0m         \u001b[0mmax_scale\u001b[0m\u001b[1;33m:\u001b[0m\u001b[0mfloat\u001b[0m\u001b[1;33m=\u001b[0m\u001b[1;36m1.\u001b[0m\u001b[1;33m,\u001b[0m \u001b[1;31m# Maximum scale of the crop, in relation to image area\u001b[0m\u001b[1;33m\n",
              "\u001b[0m         \u001b[1;33m**\u001b[0m\u001b[0mkwargs\u001b[0m\u001b[1;33m\n",
              "\u001b[0m    \u001b[1;33m)\u001b[0m\u001b[1;33m:\u001b[0m\u001b[1;33m\n",
              "\u001b[0m        \u001b[0msize\u001b[0m \u001b[1;33m=\u001b[0m \u001b[0m_process_sz\u001b[0m\u001b[1;33m(\u001b[0m\u001b[0msize\u001b[0m\u001b[1;33m)\u001b[0m\u001b[1;33m\n",
              "\u001b[0m        \u001b[0mstore_attr\u001b[0m\u001b[1;33m(\u001b[0m\u001b[1;33m)\u001b[0m\u001b[1;33m\n",
              "\u001b[0m        \u001b[0msuper\u001b[0m\u001b[1;33m(\u001b[0m\u001b[1;33m)\u001b[0m\u001b[1;33m.\u001b[0m\u001b[0m__init__\u001b[0m\u001b[1;33m(\u001b[0m\u001b[1;33m**\u001b[0m\u001b[0mkwargs\u001b[0m\u001b[1;33m)\u001b[0m\u001b[1;33m\n",
              "\u001b[0m        \u001b[0mself\u001b[0m\u001b[1;33m.\u001b[0m\u001b[0mmode\u001b[0m\u001b[1;33m,\u001b[0m\u001b[0mself\u001b[0m\u001b[1;33m.\u001b[0m\u001b[0mmode_mask\u001b[0m \u001b[1;33m=\u001b[0m \u001b[0mresamples\u001b[0m\u001b[1;33m\n",
              "\u001b[0m\u001b[1;33m\n",
              "\u001b[0m    \u001b[1;32mdef\u001b[0m \u001b[0mbefore_call\u001b[0m\u001b[1;33m(\u001b[0m\u001b[0mself\u001b[0m\u001b[1;33m,\u001b[0m \u001b[1;33m\n",
              "\u001b[0m        \u001b[0mb\u001b[0m\u001b[1;33m,\u001b[0m \u001b[1;33m\n",
              "\u001b[0m        \u001b[0msplit_idx\u001b[0m \u001b[1;31m# Index of the train/valid dataset\u001b[0m\u001b[1;33m\n",
              "\u001b[0m    \u001b[1;33m)\u001b[0m\u001b[1;33m:\u001b[0m\u001b[1;33m\n",
              "\u001b[0m        \u001b[0mw\u001b[0m\u001b[1;33m,\u001b[0m\u001b[0mh\u001b[0m \u001b[1;33m=\u001b[0m \u001b[0mself\u001b[0m\u001b[1;33m.\u001b[0m\u001b[0morig_sz\u001b[0m \u001b[1;33m=\u001b[0m \u001b[0m_get_sz\u001b[0m\u001b[1;33m(\u001b[0m\u001b[0mb\u001b[0m\u001b[1;33m)\u001b[0m\u001b[1;33m\n",
              "\u001b[0m        \u001b[1;32mif\u001b[0m \u001b[0msplit_idx\u001b[0m\u001b[1;33m:\u001b[0m\u001b[1;33m\n",
              "\u001b[0m            \u001b[0mxtra\u001b[0m \u001b[1;33m=\u001b[0m \u001b[0mmath\u001b[0m\u001b[1;33m.\u001b[0m\u001b[0mceil\u001b[0m\u001b[1;33m(\u001b[0m\u001b[0mmax\u001b[0m\u001b[1;33m(\u001b[0m\u001b[1;33m*\u001b[0m\u001b[0mself\u001b[0m\u001b[1;33m.\u001b[0m\u001b[0msize\u001b[0m\u001b[1;33m[\u001b[0m\u001b[1;33m:\u001b[0m\u001b[1;36m2\u001b[0m\u001b[1;33m]\u001b[0m\u001b[1;33m)\u001b[0m\u001b[1;33m*\u001b[0m\u001b[0mself\u001b[0m\u001b[1;33m.\u001b[0m\u001b[0mval_xtra\u001b[0m\u001b[1;33m/\u001b[0m\u001b[1;36m8\u001b[0m\u001b[1;33m)\u001b[0m\u001b[1;33m*\u001b[0m\u001b[1;36m8\u001b[0m\u001b[1;33m\n",
              "\u001b[0m            \u001b[0mself\u001b[0m\u001b[1;33m.\u001b[0m\u001b[0mfinal_size\u001b[0m \u001b[1;33m=\u001b[0m \u001b[1;33m(\u001b[0m\u001b[0mself\u001b[0m\u001b[1;33m.\u001b[0m\u001b[0msize\u001b[0m\u001b[1;33m[\u001b[0m\u001b[1;36m0\u001b[0m\u001b[1;33m]\u001b[0m\u001b[1;33m+\u001b[0m\u001b[0mxtra\u001b[0m\u001b[1;33m,\u001b[0m \u001b[0mself\u001b[0m\u001b[1;33m.\u001b[0m\u001b[0msize\u001b[0m\u001b[1;33m[\u001b[0m\u001b[1;36m1\u001b[0m\u001b[1;33m]\u001b[0m\u001b[1;33m+\u001b[0m\u001b[0mxtra\u001b[0m\u001b[1;33m)\u001b[0m\u001b[1;33m\n",
              "\u001b[0m            \u001b[0mself\u001b[0m\u001b[1;33m.\u001b[0m\u001b[0mtl\u001b[0m\u001b[1;33m,\u001b[0m\u001b[0mself\u001b[0m\u001b[1;33m.\u001b[0m\u001b[0mcp_size\u001b[0m \u001b[1;33m=\u001b[0m \u001b[1;33m(\u001b[0m\u001b[1;36m0\u001b[0m\u001b[1;33m,\u001b[0m\u001b[1;36m0\u001b[0m\u001b[1;33m)\u001b[0m\u001b[1;33m,\u001b[0m\u001b[0mself\u001b[0m\u001b[1;33m.\u001b[0m\u001b[0morig_sz\u001b[0m\u001b[1;33m\n",
              "\u001b[0m            \u001b[1;32mreturn\u001b[0m\u001b[1;33m\n",
              "\u001b[0m        \u001b[0mself\u001b[0m\u001b[1;33m.\u001b[0m\u001b[0mfinal_size\u001b[0m \u001b[1;33m=\u001b[0m \u001b[0mself\u001b[0m\u001b[1;33m.\u001b[0m\u001b[0msize\u001b[0m\u001b[1;33m\n",
              "\u001b[0m        \u001b[1;32mfor\u001b[0m \u001b[0mattempt\u001b[0m \u001b[1;32min\u001b[0m \u001b[0mrange\u001b[0m\u001b[1;33m(\u001b[0m\u001b[1;36m10\u001b[0m\u001b[1;33m)\u001b[0m\u001b[1;33m:\u001b[0m\u001b[1;33m\n",
              "\u001b[0m            \u001b[0marea\u001b[0m \u001b[1;33m=\u001b[0m \u001b[0mrandom\u001b[0m\u001b[1;33m.\u001b[0m\u001b[0muniform\u001b[0m\u001b[1;33m(\u001b[0m\u001b[0mself\u001b[0m\u001b[1;33m.\u001b[0m\u001b[0mmin_scale\u001b[0m\u001b[1;33m,\u001b[0m \u001b[0mself\u001b[0m\u001b[1;33m.\u001b[0m\u001b[0mmax_scale\u001b[0m\u001b[1;33m)\u001b[0m \u001b[1;33m*\u001b[0m \u001b[0mw\u001b[0m \u001b[1;33m*\u001b[0m \u001b[0mh\u001b[0m\u001b[1;33m\n",
              "\u001b[0m            \u001b[0mratio\u001b[0m \u001b[1;33m=\u001b[0m \u001b[0mmath\u001b[0m\u001b[1;33m.\u001b[0m\u001b[0mexp\u001b[0m\u001b[1;33m(\u001b[0m\u001b[0mrandom\u001b[0m\u001b[1;33m.\u001b[0m\u001b[0muniform\u001b[0m\u001b[1;33m(\u001b[0m\u001b[0mmath\u001b[0m\u001b[1;33m.\u001b[0m\u001b[0mlog\u001b[0m\u001b[1;33m(\u001b[0m\u001b[0mself\u001b[0m\u001b[1;33m.\u001b[0m\u001b[0mratio\u001b[0m\u001b[1;33m[\u001b[0m\u001b[1;36m0\u001b[0m\u001b[1;33m]\u001b[0m\u001b[1;33m)\u001b[0m\u001b[1;33m,\u001b[0m \u001b[0mmath\u001b[0m\u001b[1;33m.\u001b[0m\u001b[0mlog\u001b[0m\u001b[1;33m(\u001b[0m\u001b[0mself\u001b[0m\u001b[1;33m.\u001b[0m\u001b[0mratio\u001b[0m\u001b[1;33m[\u001b[0m\u001b[1;36m1\u001b[0m\u001b[1;33m]\u001b[0m\u001b[1;33m)\u001b[0m\u001b[1;33m)\u001b[0m\u001b[1;33m)\u001b[0m\u001b[1;33m\n",
              "\u001b[0m            \u001b[0mnw\u001b[0m \u001b[1;33m=\u001b[0m \u001b[0mint\u001b[0m\u001b[1;33m(\u001b[0m\u001b[0mround\u001b[0m\u001b[1;33m(\u001b[0m\u001b[0mmath\u001b[0m\u001b[1;33m.\u001b[0m\u001b[0msqrt\u001b[0m\u001b[1;33m(\u001b[0m\u001b[0marea\u001b[0m \u001b[1;33m*\u001b[0m \u001b[0mratio\u001b[0m\u001b[1;33m)\u001b[0m\u001b[1;33m)\u001b[0m\u001b[1;33m)\u001b[0m\u001b[1;33m\n",
              "\u001b[0m            \u001b[0mnh\u001b[0m \u001b[1;33m=\u001b[0m \u001b[0mint\u001b[0m\u001b[1;33m(\u001b[0m\u001b[0mround\u001b[0m\u001b[1;33m(\u001b[0m\u001b[0mmath\u001b[0m\u001b[1;33m.\u001b[0m\u001b[0msqrt\u001b[0m\u001b[1;33m(\u001b[0m\u001b[0marea\u001b[0m \u001b[1;33m/\u001b[0m \u001b[0mratio\u001b[0m\u001b[1;33m)\u001b[0m\u001b[1;33m)\u001b[0m\u001b[1;33m)\u001b[0m\u001b[1;33m\n",
              "\u001b[0m            \u001b[1;32mif\u001b[0m \u001b[0mnw\u001b[0m \u001b[1;33m<=\u001b[0m \u001b[0mw\u001b[0m \u001b[1;32mand\u001b[0m \u001b[0mnh\u001b[0m \u001b[1;33m<=\u001b[0m \u001b[0mh\u001b[0m\u001b[1;33m:\u001b[0m\u001b[1;33m\n",
              "\u001b[0m                \u001b[0mself\u001b[0m\u001b[1;33m.\u001b[0m\u001b[0mcp_size\u001b[0m \u001b[1;33m=\u001b[0m \u001b[1;33m(\u001b[0m\u001b[0mnw\u001b[0m\u001b[1;33m,\u001b[0m\u001b[0mnh\u001b[0m\u001b[1;33m)\u001b[0m\u001b[1;33m\n",
              "\u001b[0m                \u001b[0mself\u001b[0m\u001b[1;33m.\u001b[0m\u001b[0mtl\u001b[0m \u001b[1;33m=\u001b[0m \u001b[0mrandom\u001b[0m\u001b[1;33m.\u001b[0m\u001b[0mrandint\u001b[0m\u001b[1;33m(\u001b[0m\u001b[1;36m0\u001b[0m\u001b[1;33m,\u001b[0m\u001b[0mw\u001b[0m\u001b[1;33m-\u001b[0m\u001b[0mnw\u001b[0m\u001b[1;33m)\u001b[0m\u001b[1;33m,\u001b[0m \u001b[0mrandom\u001b[0m\u001b[1;33m.\u001b[0m\u001b[0mrandint\u001b[0m\u001b[1;33m(\u001b[0m\u001b[1;36m0\u001b[0m\u001b[1;33m,\u001b[0m\u001b[0mh\u001b[0m \u001b[1;33m-\u001b[0m \u001b[0mnh\u001b[0m\u001b[1;33m)\u001b[0m\u001b[1;33m\n",
              "\u001b[0m                \u001b[1;32mreturn\u001b[0m\u001b[1;33m\n",
              "\u001b[0m        \u001b[1;32mif\u001b[0m   \u001b[0mw\u001b[0m\u001b[1;33m/\u001b[0m\u001b[0mh\u001b[0m \u001b[1;33m<\u001b[0m \u001b[0mself\u001b[0m\u001b[1;33m.\u001b[0m\u001b[0mratio\u001b[0m\u001b[1;33m[\u001b[0m\u001b[1;36m0\u001b[0m\u001b[1;33m]\u001b[0m\u001b[1;33m:\u001b[0m \u001b[0mself\u001b[0m\u001b[1;33m.\u001b[0m\u001b[0mcp_size\u001b[0m \u001b[1;33m=\u001b[0m \u001b[1;33m(\u001b[0m\u001b[0mw\u001b[0m\u001b[1;33m,\u001b[0m \u001b[0mint\u001b[0m\u001b[1;33m(\u001b[0m\u001b[0mw\u001b[0m\u001b[1;33m/\u001b[0m\u001b[0mself\u001b[0m\u001b[1;33m.\u001b[0m\u001b[0mratio\u001b[0m\u001b[1;33m[\u001b[0m\u001b[1;36m0\u001b[0m\u001b[1;33m]\u001b[0m\u001b[1;33m)\u001b[0m\u001b[1;33m)\u001b[0m\u001b[1;33m\n",
              "\u001b[0m        \u001b[1;32melif\u001b[0m \u001b[0mw\u001b[0m\u001b[1;33m/\u001b[0m\u001b[0mh\u001b[0m \u001b[1;33m>\u001b[0m \u001b[0mself\u001b[0m\u001b[1;33m.\u001b[0m\u001b[0mratio\u001b[0m\u001b[1;33m[\u001b[0m\u001b[1;36m1\u001b[0m\u001b[1;33m]\u001b[0m\u001b[1;33m:\u001b[0m \u001b[0mself\u001b[0m\u001b[1;33m.\u001b[0m\u001b[0mcp_size\u001b[0m \u001b[1;33m=\u001b[0m \u001b[1;33m(\u001b[0m\u001b[0mint\u001b[0m\u001b[1;33m(\u001b[0m\u001b[0mh\u001b[0m\u001b[1;33m*\u001b[0m\u001b[0mself\u001b[0m\u001b[1;33m.\u001b[0m\u001b[0mratio\u001b[0m\u001b[1;33m[\u001b[0m\u001b[1;36m1\u001b[0m\u001b[1;33m]\u001b[0m\u001b[1;33m)\u001b[0m\u001b[1;33m,\u001b[0m \u001b[0mh\u001b[0m\u001b[1;33m)\u001b[0m\u001b[1;33m\n",
              "\u001b[0m        \u001b[1;32melse\u001b[0m\u001b[1;33m:\u001b[0m                     \u001b[0mself\u001b[0m\u001b[1;33m.\u001b[0m\u001b[0mcp_size\u001b[0m \u001b[1;33m=\u001b[0m \u001b[1;33m(\u001b[0m\u001b[0mw\u001b[0m\u001b[1;33m,\u001b[0m \u001b[0mh\u001b[0m\u001b[1;33m)\u001b[0m\u001b[1;33m\n",
              "\u001b[0m        \u001b[0mself\u001b[0m\u001b[1;33m.\u001b[0m\u001b[0mtl\u001b[0m \u001b[1;33m=\u001b[0m \u001b[1;33m(\u001b[0m\u001b[1;33m(\u001b[0m\u001b[0mw\u001b[0m\u001b[1;33m-\u001b[0m\u001b[0mself\u001b[0m\u001b[1;33m.\u001b[0m\u001b[0mcp_size\u001b[0m\u001b[1;33m[\u001b[0m\u001b[1;36m0\u001b[0m\u001b[1;33m]\u001b[0m\u001b[1;33m)\u001b[0m\u001b[1;33m//\u001b[0m\u001b[1;36m2\u001b[0m\u001b[1;33m,\u001b[0m \u001b[1;33m(\u001b[0m\u001b[0mh\u001b[0m\u001b[1;33m-\u001b[0m\u001b[0mself\u001b[0m\u001b[1;33m.\u001b[0m\u001b[0mcp_size\u001b[0m\u001b[1;33m[\u001b[0m\u001b[1;36m1\u001b[0m\u001b[1;33m]\u001b[0m\u001b[1;33m)\u001b[0m\u001b[1;33m//\u001b[0m\u001b[1;36m2\u001b[0m\u001b[1;33m)\u001b[0m\u001b[1;33m\n",
              "\u001b[0m\u001b[1;33m\n",
              "\u001b[0m    \u001b[1;32mdef\u001b[0m \u001b[0mencodes\u001b[0m\u001b[1;33m(\u001b[0m\u001b[0mself\u001b[0m\u001b[1;33m,\u001b[0m \u001b[0mx\u001b[0m\u001b[1;33m:\u001b[0m\u001b[0mImage\u001b[0m\u001b[1;33m.\u001b[0m\u001b[0mImage\u001b[0m\u001b[1;33m|\u001b[0m\u001b[0mTensorBBox\u001b[0m\u001b[1;33m|\u001b[0m\u001b[0mTensorPoint\u001b[0m\u001b[1;33m)\u001b[0m\u001b[1;33m:\u001b[0m\u001b[1;33m\n",
              "\u001b[0m        \u001b[0mres\u001b[0m \u001b[1;33m=\u001b[0m \u001b[0mx\u001b[0m\u001b[1;33m.\u001b[0m\u001b[0mcrop_pad\u001b[0m\u001b[1;33m(\u001b[0m\u001b[0mself\u001b[0m\u001b[1;33m.\u001b[0m\u001b[0mcp_size\u001b[0m\u001b[1;33m,\u001b[0m \u001b[0mself\u001b[0m\u001b[1;33m.\u001b[0m\u001b[0mtl\u001b[0m\u001b[1;33m,\u001b[0m \u001b[0morig_sz\u001b[0m\u001b[1;33m=\u001b[0m\u001b[0mself\u001b[0m\u001b[1;33m.\u001b[0m\u001b[0morig_sz\u001b[0m\u001b[1;33m,\u001b[0m\u001b[1;33m\n",
              "\u001b[0m            \u001b[0mresize_mode\u001b[0m\u001b[1;33m=\u001b[0m\u001b[0mself\u001b[0m\u001b[1;33m.\u001b[0m\u001b[0mmode_mask\u001b[0m \u001b[1;32mif\u001b[0m \u001b[0misinstance\u001b[0m\u001b[1;33m(\u001b[0m\u001b[0mx\u001b[0m\u001b[1;33m,\u001b[0m\u001b[0mPILMask\u001b[0m\u001b[1;33m)\u001b[0m \u001b[1;32melse\u001b[0m \u001b[0mself\u001b[0m\u001b[1;33m.\u001b[0m\u001b[0mmode\u001b[0m\u001b[1;33m,\u001b[0m \u001b[0mresize_to\u001b[0m\u001b[1;33m=\u001b[0m\u001b[0mself\u001b[0m\u001b[1;33m.\u001b[0m\u001b[0mfinal_size\u001b[0m\u001b[1;33m)\u001b[0m\u001b[1;33m\n",
              "\u001b[0m        \u001b[1;32mif\u001b[0m \u001b[0mself\u001b[0m\u001b[1;33m.\u001b[0m\u001b[0mfinal_size\u001b[0m \u001b[1;33m!=\u001b[0m \u001b[0mself\u001b[0m\u001b[1;33m.\u001b[0m\u001b[0msize\u001b[0m\u001b[1;33m:\u001b[0m \u001b[0mres\u001b[0m \u001b[1;33m=\u001b[0m \u001b[0mres\u001b[0m\u001b[1;33m.\u001b[0m\u001b[0mcrop_pad\u001b[0m\u001b[1;33m(\u001b[0m\u001b[0mself\u001b[0m\u001b[1;33m.\u001b[0m\u001b[0msize\u001b[0m\u001b[1;33m)\u001b[0m \u001b[1;31m#Validation set: one final center crop\u001b[0m\u001b[1;33m\n",
              "\u001b[0m        \u001b[1;32mreturn\u001b[0m \u001b[0mres\u001b[0m\u001b[1;33m\u001b[0m\u001b[1;33m\u001b[0m\u001b[0m\n",
              "\u001b[1;31mFile:\u001b[0m           c:\\users\\oranuch\\anaconda3\\lib\\site-packages\\fastai\\vision\\augment.py\n",
              "\u001b[1;31mType:\u001b[0m           _TfmMeta\n",
              "\u001b[1;31mSubclasses:\u001b[0m     \n"
            ]
          },
          "metadata": {},
          "output_type": "display_data"
        }
      ],
      "source": [
        "aug_transforms??\n",
        "RandomResizedCrop??"
      ]
    },
    {
      "cell_type": "code",
      "execution_count": null,
      "id": "2cd52128",
      "metadata": {
        "id": "2cd52128"
      },
      "outputs": [],
      "source": [
        "bs = 64"
      ]
    },
    {
      "cell_type": "code",
      "execution_count": null,
      "id": "0c0814c8",
      "metadata": {
        "id": "0c0814c8"
      },
      "outputs": [],
      "source": [
        "dls = ImageDataLoaders.from_name_re(path, fnames, pat, bs=bs,\n",
        "                                     batch_tfms=batch_tfms, item_tfms=item_tfms)"
      ]
    },
    {
      "cell_type": "code",
      "execution_count": null,
      "id": "3eb77f49",
      "metadata": {
        "id": "3eb77f49",
        "outputId": "edf3e893-c2b3-4572-f1f9-220fb87a9762"
      },
      "outputs": [
        {
          "data": {
            "text/plain": [
              "\u001b[1;31mSignature:\u001b[0m\n",
              "\u001b[0mImageDataLoaders\u001b[0m\u001b[1;33m.\u001b[0m\u001b[0mfrom_name_re\u001b[0m\u001b[1;33m(\u001b[0m\u001b[1;33m\n",
              "\u001b[0m    \u001b[0mpath\u001b[0m\u001b[1;33m,\u001b[0m\u001b[1;33m\n",
              "\u001b[0m    \u001b[0mfnames\u001b[0m\u001b[1;33m,\u001b[0m\u001b[1;33m\n",
              "\u001b[0m    \u001b[0mpat\u001b[0m\u001b[1;33m,\u001b[0m\u001b[1;33m\n",
              "\u001b[0m    \u001b[1;33m*\u001b[0m\u001b[1;33m,\u001b[0m\u001b[1;33m\n",
              "\u001b[0m    \u001b[0mbs\u001b[0m\u001b[1;33m:\u001b[0m \u001b[1;34m'int'\u001b[0m \u001b[1;33m=\u001b[0m \u001b[1;36m64\u001b[0m\u001b[1;33m,\u001b[0m\u001b[1;33m\n",
              "\u001b[0m    \u001b[0mval_bs\u001b[0m\u001b[1;33m:\u001b[0m \u001b[1;34m'int'\u001b[0m \u001b[1;33m=\u001b[0m \u001b[1;32mNone\u001b[0m\u001b[1;33m,\u001b[0m\u001b[1;33m\n",
              "\u001b[0m    \u001b[0mshuffle\u001b[0m\u001b[1;33m:\u001b[0m \u001b[1;34m'bool'\u001b[0m \u001b[1;33m=\u001b[0m \u001b[1;32mTrue\u001b[0m\u001b[1;33m,\u001b[0m\u001b[1;33m\n",
              "\u001b[0m    \u001b[0mdevice\u001b[0m\u001b[1;33m=\u001b[0m\u001b[1;32mNone\u001b[0m\u001b[1;33m,\u001b[0m\u001b[1;33m\n",
              "\u001b[0m\u001b[1;33m)\u001b[0m\u001b[1;33m\u001b[0m\u001b[1;33m\u001b[0m\u001b[0m\n",
              "\u001b[1;31mSource:\u001b[0m   \n",
              "    \u001b[1;33m@\u001b[0m\u001b[0mclassmethod\u001b[0m\u001b[1;33m\n",
              "\u001b[0m    \u001b[1;33m@\u001b[0m\u001b[0mdelegates\u001b[0m\u001b[1;33m(\u001b[0m\u001b[0mDataLoaders\u001b[0m\u001b[1;33m.\u001b[0m\u001b[0mfrom_dblock\u001b[0m\u001b[1;33m)\u001b[0m\u001b[1;33m\n",
              "\u001b[0m    \u001b[1;32mdef\u001b[0m \u001b[0mfrom_name_re\u001b[0m\u001b[1;33m(\u001b[0m\u001b[0mcls\u001b[0m\u001b[1;33m,\u001b[0m \u001b[0mpath\u001b[0m\u001b[1;33m,\u001b[0m \u001b[0mfnames\u001b[0m\u001b[1;33m,\u001b[0m \u001b[0mpat\u001b[0m\u001b[1;33m,\u001b[0m \u001b[1;33m**\u001b[0m\u001b[0mkwargs\u001b[0m\u001b[1;33m)\u001b[0m\u001b[1;33m:\u001b[0m\u001b[1;33m\n",
              "\u001b[0m        \u001b[1;34m\"Create from the name attrs of `fnames` in `path`s with re expression `pat`\"\u001b[0m\u001b[1;33m\n",
              "\u001b[0m        \u001b[1;32mreturn\u001b[0m \u001b[0mcls\u001b[0m\u001b[1;33m.\u001b[0m\u001b[0mfrom_name_func\u001b[0m\u001b[1;33m(\u001b[0m\u001b[0mpath\u001b[0m\u001b[1;33m,\u001b[0m \u001b[0mfnames\u001b[0m\u001b[1;33m,\u001b[0m \u001b[0mRegexLabeller\u001b[0m\u001b[1;33m(\u001b[0m\u001b[0mpat\u001b[0m\u001b[1;33m)\u001b[0m\u001b[1;33m,\u001b[0m \u001b[1;33m**\u001b[0m\u001b[0mkwargs\u001b[0m\u001b[1;33m)\u001b[0m\u001b[1;33m\u001b[0m\u001b[1;33m\u001b[0m\u001b[0m\n",
              "\u001b[1;31mFile:\u001b[0m      c:\\users\\oranuch\\anaconda3\\lib\\site-packages\\fastai\\vision\\data.py\n",
              "\u001b[1;31mType:\u001b[0m      method\n"
            ]
          },
          "metadata": {},
          "output_type": "display_data"
        }
      ],
      "source": [
        "ImageDataLoaders.from_name_re??"
      ]
    },
    {
      "cell_type": "code",
      "execution_count": null,
      "id": "6669083c-eebd-42dd-9f19-f13faded992c",
      "metadata": {
        "id": "6669083c-eebd-42dd-9f19-f13faded992c",
        "outputId": "6a5c828c-4c29-4000-ab7c-0b4dceb695cc"
      },
      "outputs": [
        {
          "ename": "ValueError",
          "evalue": "This DataLoader does not contain any batches",
          "output_type": "error",
          "traceback": [
            "\u001b[1;31m---------------------------------------------------------------------------\u001b[0m",
            "\u001b[1;31mValueError\u001b[0m                                Traceback (most recent call last)",
            "\u001b[1;32m~\\AppData\\Local\\Temp/ipykernel_11892/1505772823.py\u001b[0m in \u001b[0;36m<module>\u001b[1;34m\u001b[0m\n\u001b[1;32m----> 1\u001b[1;33m \u001b[0mdls\u001b[0m\u001b[1;33m.\u001b[0m\u001b[0mshow_batch\u001b[0m\u001b[1;33m(\u001b[0m\u001b[0mmax_n\u001b[0m\u001b[1;33m=\u001b[0m\u001b[1;36m9\u001b[0m\u001b[1;33m,\u001b[0m \u001b[0mfigsize\u001b[0m\u001b[1;33m=\u001b[0m\u001b[1;33m(\u001b[0m\u001b[1;36m8\u001b[0m\u001b[1;33m,\u001b[0m \u001b[1;36m9\u001b[0m\u001b[1;33m)\u001b[0m\u001b[1;33m)\u001b[0m\u001b[1;33m\u001b[0m\u001b[1;33m\u001b[0m\u001b[0m\n\u001b[0m",
            "\u001b[1;32m~\\anaconda3\\lib\\site-packages\\fastai\\data\\core.py\u001b[0m in \u001b[0;36mshow_batch\u001b[1;34m(self, b, max_n, ctxs, show, unique, **kwargs)\u001b[0m\n\u001b[0;32m    147\u001b[0m             \u001b[0mold_get_idxs\u001b[0m \u001b[1;33m=\u001b[0m \u001b[0mself\u001b[0m\u001b[1;33m.\u001b[0m\u001b[0mget_idxs\u001b[0m\u001b[1;33m\u001b[0m\u001b[1;33m\u001b[0m\u001b[0m\n\u001b[0;32m    148\u001b[0m             \u001b[0mself\u001b[0m\u001b[1;33m.\u001b[0m\u001b[0mget_idxs\u001b[0m \u001b[1;33m=\u001b[0m \u001b[1;32mlambda\u001b[0m\u001b[1;33m:\u001b[0m \u001b[0mInf\u001b[0m\u001b[1;33m.\u001b[0m\u001b[0mzeros\u001b[0m\u001b[1;33m\u001b[0m\u001b[1;33m\u001b[0m\u001b[0m\n\u001b[1;32m--> 149\u001b[1;33m         \u001b[1;32mif\u001b[0m \u001b[0mb\u001b[0m \u001b[1;32mis\u001b[0m \u001b[1;32mNone\u001b[0m\u001b[1;33m:\u001b[0m \u001b[0mb\u001b[0m \u001b[1;33m=\u001b[0m \u001b[0mself\u001b[0m\u001b[1;33m.\u001b[0m\u001b[0mone_batch\u001b[0m\u001b[1;33m(\u001b[0m\u001b[1;33m)\u001b[0m\u001b[1;33m\u001b[0m\u001b[1;33m\u001b[0m\u001b[0m\n\u001b[0m\u001b[0;32m    150\u001b[0m         \u001b[1;32mif\u001b[0m \u001b[1;32mnot\u001b[0m \u001b[0mshow\u001b[0m\u001b[1;33m:\u001b[0m \u001b[1;32mreturn\u001b[0m \u001b[0mself\u001b[0m\u001b[1;33m.\u001b[0m\u001b[0m_pre_show_batch\u001b[0m\u001b[1;33m(\u001b[0m\u001b[0mb\u001b[0m\u001b[1;33m,\u001b[0m \u001b[0mmax_n\u001b[0m\u001b[1;33m=\u001b[0m\u001b[0mmax_n\u001b[0m\u001b[1;33m)\u001b[0m\u001b[1;33m\u001b[0m\u001b[1;33m\u001b[0m\u001b[0m\n\u001b[0;32m    151\u001b[0m         \u001b[0mshow_batch\u001b[0m\u001b[1;33m(\u001b[0m\u001b[1;33m*\u001b[0m\u001b[0mself\u001b[0m\u001b[1;33m.\u001b[0m\u001b[0m_pre_show_batch\u001b[0m\u001b[1;33m(\u001b[0m\u001b[0mb\u001b[0m\u001b[1;33m,\u001b[0m \u001b[0mmax_n\u001b[0m\u001b[1;33m=\u001b[0m\u001b[0mmax_n\u001b[0m\u001b[1;33m)\u001b[0m\u001b[1;33m,\u001b[0m \u001b[0mctxs\u001b[0m\u001b[1;33m=\u001b[0m\u001b[0mctxs\u001b[0m\u001b[1;33m,\u001b[0m \u001b[0mmax_n\u001b[0m\u001b[1;33m=\u001b[0m\u001b[0mmax_n\u001b[0m\u001b[1;33m,\u001b[0m \u001b[1;33m**\u001b[0m\u001b[0mkwargs\u001b[0m\u001b[1;33m)\u001b[0m\u001b[1;33m\u001b[0m\u001b[1;33m\u001b[0m\u001b[0m\n",
            "\u001b[1;32m~\\anaconda3\\lib\\site-packages\\fastai\\data\\load.py\u001b[0m in \u001b[0;36mone_batch\u001b[1;34m(self)\u001b[0m\n\u001b[0;32m    169\u001b[0m     \u001b[1;32mdef\u001b[0m \u001b[0mto\u001b[0m\u001b[1;33m(\u001b[0m\u001b[0mself\u001b[0m\u001b[1;33m,\u001b[0m \u001b[0mdevice\u001b[0m\u001b[1;33m)\u001b[0m\u001b[1;33m:\u001b[0m \u001b[0mself\u001b[0m\u001b[1;33m.\u001b[0m\u001b[0mdevice\u001b[0m \u001b[1;33m=\u001b[0m \u001b[0mdevice\u001b[0m\u001b[1;33m\u001b[0m\u001b[1;33m\u001b[0m\u001b[0m\n\u001b[0;32m    170\u001b[0m     \u001b[1;32mdef\u001b[0m \u001b[0mone_batch\u001b[0m\u001b[1;33m(\u001b[0m\u001b[0mself\u001b[0m\u001b[1;33m)\u001b[0m\u001b[1;33m:\u001b[0m\u001b[1;33m\u001b[0m\u001b[1;33m\u001b[0m\u001b[0m\n\u001b[1;32m--> 171\u001b[1;33m         \u001b[1;32mif\u001b[0m \u001b[0mself\u001b[0m\u001b[1;33m.\u001b[0m\u001b[0mn\u001b[0m \u001b[1;32mis\u001b[0m \u001b[1;32mnot\u001b[0m \u001b[1;32mNone\u001b[0m \u001b[1;32mand\u001b[0m \u001b[0mlen\u001b[0m\u001b[1;33m(\u001b[0m\u001b[0mself\u001b[0m\u001b[1;33m)\u001b[0m\u001b[1;33m==\u001b[0m\u001b[1;36m0\u001b[0m\u001b[1;33m:\u001b[0m \u001b[1;32mraise\u001b[0m \u001b[0mValueError\u001b[0m\u001b[1;33m(\u001b[0m\u001b[1;34mf'This DataLoader does not contain any batches'\u001b[0m\u001b[1;33m)\u001b[0m\u001b[1;33m\u001b[0m\u001b[1;33m\u001b[0m\u001b[0m\n\u001b[0m\u001b[0;32m    172\u001b[0m         \u001b[1;32mwith\u001b[0m \u001b[0mself\u001b[0m\u001b[1;33m.\u001b[0m\u001b[0mfake_l\u001b[0m\u001b[1;33m.\u001b[0m\u001b[0mno_multiproc\u001b[0m\u001b[1;33m(\u001b[0m\u001b[1;33m)\u001b[0m\u001b[1;33m:\u001b[0m \u001b[0mres\u001b[0m \u001b[1;33m=\u001b[0m \u001b[0mfirst\u001b[0m\u001b[1;33m(\u001b[0m\u001b[0mself\u001b[0m\u001b[1;33m)\u001b[0m\u001b[1;33m\u001b[0m\u001b[1;33m\u001b[0m\u001b[0m\n\u001b[0;32m    173\u001b[0m         \u001b[1;32mif\u001b[0m \u001b[0mhasattr\u001b[0m\u001b[1;33m(\u001b[0m\u001b[0mself\u001b[0m\u001b[1;33m,\u001b[0m \u001b[1;34m'it'\u001b[0m\u001b[1;33m)\u001b[0m\u001b[1;33m:\u001b[0m \u001b[0mdelattr\u001b[0m\u001b[1;33m(\u001b[0m\u001b[0mself\u001b[0m\u001b[1;33m,\u001b[0m \u001b[1;34m'it'\u001b[0m\u001b[1;33m)\u001b[0m\u001b[1;33m\u001b[0m\u001b[1;33m\u001b[0m\u001b[0m\n",
            "\u001b[1;31mValueError\u001b[0m: This DataLoader does not contain any batches"
          ]
        }
      ],
      "source": [
        "dls.show_batch(max_n=9, figsize=(8, 9))"
      ]
    },
    {
      "cell_type": "code",
      "execution_count": null,
      "id": "35687ec2-d8b0-448f-8ad4-15d14ccfd345",
      "metadata": {
        "id": "35687ec2-d8b0-448f-8ad4-15d14ccfd345"
      },
      "outputs": [],
      "source": [
        "pets = DataBlock(blocks=(ImageBlock, CategoryBlock),\n",
        "                 get_items=get_image_files,\n",
        "                 splitter=RandomSplitter(),\n",
        "                 get_y=RegexLabeller(pat=r\"/([^/]+)_\\d+.*\"),\n",
        "                 item_tfms=item_tfms,\n",
        "                 batch_tfms=batch_tfms)"
      ]
    },
    {
      "cell_type": "code",
      "execution_count": null,
      "id": "69149846-7c37-46fc-ac30-15e42ed70a51",
      "metadata": {
        "id": "69149846-7c37-46fc-ac30-15e42ed70a51",
        "outputId": "698e1b7f-bfed-4292-db78-2d02b22955e2"
      },
      "outputs": [
        {
          "data": {
            "text/plain": [
              "((#32) [34,13,30,28,5,35,17,33,2,4...], (#7) [18,1,31,29,22,19,9])"
            ]
          },
          "execution_count": 99,
          "metadata": {},
          "output_type": "execute_result"
        }
      ],
      "source": [
        "splitter = RandomSplitter(valid_pct=0.2, seed=5555)\n",
        "splitter(fnames)"
      ]
    },
    {
      "cell_type": "code",
      "execution_count": null,
      "id": "871e2864-9c0c-4b88-b0b1-a78d25f12585",
      "metadata": {
        "id": "871e2864-9c0c-4b88-b0b1-a78d25f12585"
      },
      "outputs": [],
      "source": [
        "path_im = \"C:\\\\Users\\\\Oranuch\\\\Documents\\\\Python project\\\\shoe\""
      ]
    },
    {
      "cell_type": "code",
      "execution_count": null,
      "id": "5ab59cb2-e669-4da7-b8a5-d1b905bd9f1b",
      "metadata": {
        "id": "5ab59cb2-e669-4da7-b8a5-d1b905bd9f1b"
      },
      "outputs": [],
      "source": [
        "dls = pets.dataloaders(path_im, bs=bs)"
      ]
    },
    {
      "cell_type": "code",
      "execution_count": null,
      "id": "728aae95-50dc-49ed-8617-fdd5fa2a9ad7",
      "metadata": {
        "id": "728aae95-50dc-49ed-8617-fdd5fa2a9ad7",
        "outputId": "ee8a5433-a6f9-49df-90ee-af34cc5c4e52"
      },
      "outputs": [
        {
          "ename": "ValueError",
          "evalue": "This DataLoader does not contain any batches",
          "output_type": "error",
          "traceback": [
            "\u001b[1;31m---------------------------------------------------------------------------\u001b[0m",
            "\u001b[1;31mValueError\u001b[0m                                Traceback (most recent call last)",
            "\u001b[1;32m~\\AppData\\Local\\Temp/ipykernel_11892/1505772823.py\u001b[0m in \u001b[0;36m<module>\u001b[1;34m\u001b[0m\n\u001b[1;32m----> 1\u001b[1;33m \u001b[0mdls\u001b[0m\u001b[1;33m.\u001b[0m\u001b[0mshow_batch\u001b[0m\u001b[1;33m(\u001b[0m\u001b[0mmax_n\u001b[0m\u001b[1;33m=\u001b[0m\u001b[1;36m9\u001b[0m\u001b[1;33m,\u001b[0m \u001b[0mfigsize\u001b[0m\u001b[1;33m=\u001b[0m\u001b[1;33m(\u001b[0m\u001b[1;36m8\u001b[0m\u001b[1;33m,\u001b[0m \u001b[1;36m9\u001b[0m\u001b[1;33m)\u001b[0m\u001b[1;33m)\u001b[0m\u001b[1;33m\u001b[0m\u001b[1;33m\u001b[0m\u001b[0m\n\u001b[0m",
            "\u001b[1;32m~\\anaconda3\\lib\\site-packages\\fastai\\data\\core.py\u001b[0m in \u001b[0;36mshow_batch\u001b[1;34m(self, b, max_n, ctxs, show, unique, **kwargs)\u001b[0m\n\u001b[0;32m    147\u001b[0m             \u001b[0mold_get_idxs\u001b[0m \u001b[1;33m=\u001b[0m \u001b[0mself\u001b[0m\u001b[1;33m.\u001b[0m\u001b[0mget_idxs\u001b[0m\u001b[1;33m\u001b[0m\u001b[1;33m\u001b[0m\u001b[0m\n\u001b[0;32m    148\u001b[0m             \u001b[0mself\u001b[0m\u001b[1;33m.\u001b[0m\u001b[0mget_idxs\u001b[0m \u001b[1;33m=\u001b[0m \u001b[1;32mlambda\u001b[0m\u001b[1;33m:\u001b[0m \u001b[0mInf\u001b[0m\u001b[1;33m.\u001b[0m\u001b[0mzeros\u001b[0m\u001b[1;33m\u001b[0m\u001b[1;33m\u001b[0m\u001b[0m\n\u001b[1;32m--> 149\u001b[1;33m         \u001b[1;32mif\u001b[0m \u001b[0mb\u001b[0m \u001b[1;32mis\u001b[0m \u001b[1;32mNone\u001b[0m\u001b[1;33m:\u001b[0m \u001b[0mb\u001b[0m \u001b[1;33m=\u001b[0m \u001b[0mself\u001b[0m\u001b[1;33m.\u001b[0m\u001b[0mone_batch\u001b[0m\u001b[1;33m(\u001b[0m\u001b[1;33m)\u001b[0m\u001b[1;33m\u001b[0m\u001b[1;33m\u001b[0m\u001b[0m\n\u001b[0m\u001b[0;32m    150\u001b[0m         \u001b[1;32mif\u001b[0m \u001b[1;32mnot\u001b[0m \u001b[0mshow\u001b[0m\u001b[1;33m:\u001b[0m \u001b[1;32mreturn\u001b[0m \u001b[0mself\u001b[0m\u001b[1;33m.\u001b[0m\u001b[0m_pre_show_batch\u001b[0m\u001b[1;33m(\u001b[0m\u001b[0mb\u001b[0m\u001b[1;33m,\u001b[0m \u001b[0mmax_n\u001b[0m\u001b[1;33m=\u001b[0m\u001b[0mmax_n\u001b[0m\u001b[1;33m)\u001b[0m\u001b[1;33m\u001b[0m\u001b[1;33m\u001b[0m\u001b[0m\n\u001b[0;32m    151\u001b[0m         \u001b[0mshow_batch\u001b[0m\u001b[1;33m(\u001b[0m\u001b[1;33m*\u001b[0m\u001b[0mself\u001b[0m\u001b[1;33m.\u001b[0m\u001b[0m_pre_show_batch\u001b[0m\u001b[1;33m(\u001b[0m\u001b[0mb\u001b[0m\u001b[1;33m,\u001b[0m \u001b[0mmax_n\u001b[0m\u001b[1;33m=\u001b[0m\u001b[0mmax_n\u001b[0m\u001b[1;33m)\u001b[0m\u001b[1;33m,\u001b[0m \u001b[0mctxs\u001b[0m\u001b[1;33m=\u001b[0m\u001b[0mctxs\u001b[0m\u001b[1;33m,\u001b[0m \u001b[0mmax_n\u001b[0m\u001b[1;33m=\u001b[0m\u001b[0mmax_n\u001b[0m\u001b[1;33m,\u001b[0m \u001b[1;33m**\u001b[0m\u001b[0mkwargs\u001b[0m\u001b[1;33m)\u001b[0m\u001b[1;33m\u001b[0m\u001b[1;33m\u001b[0m\u001b[0m\n",
            "\u001b[1;32m~\\anaconda3\\lib\\site-packages\\fastai\\data\\load.py\u001b[0m in \u001b[0;36mone_batch\u001b[1;34m(self)\u001b[0m\n\u001b[0;32m    169\u001b[0m     \u001b[1;32mdef\u001b[0m \u001b[0mto\u001b[0m\u001b[1;33m(\u001b[0m\u001b[0mself\u001b[0m\u001b[1;33m,\u001b[0m \u001b[0mdevice\u001b[0m\u001b[1;33m)\u001b[0m\u001b[1;33m:\u001b[0m \u001b[0mself\u001b[0m\u001b[1;33m.\u001b[0m\u001b[0mdevice\u001b[0m \u001b[1;33m=\u001b[0m \u001b[0mdevice\u001b[0m\u001b[1;33m\u001b[0m\u001b[1;33m\u001b[0m\u001b[0m\n\u001b[0;32m    170\u001b[0m     \u001b[1;32mdef\u001b[0m \u001b[0mone_batch\u001b[0m\u001b[1;33m(\u001b[0m\u001b[0mself\u001b[0m\u001b[1;33m)\u001b[0m\u001b[1;33m:\u001b[0m\u001b[1;33m\u001b[0m\u001b[1;33m\u001b[0m\u001b[0m\n\u001b[1;32m--> 171\u001b[1;33m         \u001b[1;32mif\u001b[0m \u001b[0mself\u001b[0m\u001b[1;33m.\u001b[0m\u001b[0mn\u001b[0m \u001b[1;32mis\u001b[0m \u001b[1;32mnot\u001b[0m \u001b[1;32mNone\u001b[0m \u001b[1;32mand\u001b[0m \u001b[0mlen\u001b[0m\u001b[1;33m(\u001b[0m\u001b[0mself\u001b[0m\u001b[1;33m)\u001b[0m\u001b[1;33m==\u001b[0m\u001b[1;36m0\u001b[0m\u001b[1;33m:\u001b[0m \u001b[1;32mraise\u001b[0m \u001b[0mValueError\u001b[0m\u001b[1;33m(\u001b[0m\u001b[1;34mf'This DataLoader does not contain any batches'\u001b[0m\u001b[1;33m)\u001b[0m\u001b[1;33m\u001b[0m\u001b[1;33m\u001b[0m\u001b[0m\n\u001b[0m\u001b[0;32m    172\u001b[0m         \u001b[1;32mwith\u001b[0m \u001b[0mself\u001b[0m\u001b[1;33m.\u001b[0m\u001b[0mfake_l\u001b[0m\u001b[1;33m.\u001b[0m\u001b[0mno_multiproc\u001b[0m\u001b[1;33m(\u001b[0m\u001b[1;33m)\u001b[0m\u001b[1;33m:\u001b[0m \u001b[0mres\u001b[0m \u001b[1;33m=\u001b[0m \u001b[0mfirst\u001b[0m\u001b[1;33m(\u001b[0m\u001b[0mself\u001b[0m\u001b[1;33m)\u001b[0m\u001b[1;33m\u001b[0m\u001b[1;33m\u001b[0m\u001b[0m\n\u001b[0;32m    173\u001b[0m         \u001b[1;32mif\u001b[0m \u001b[0mhasattr\u001b[0m\u001b[1;33m(\u001b[0m\u001b[0mself\u001b[0m\u001b[1;33m,\u001b[0m \u001b[1;34m'it'\u001b[0m\u001b[1;33m)\u001b[0m\u001b[1;33m:\u001b[0m \u001b[0mdelattr\u001b[0m\u001b[1;33m(\u001b[0m\u001b[0mself\u001b[0m\u001b[1;33m,\u001b[0m \u001b[1;34m'it'\u001b[0m\u001b[1;33m)\u001b[0m\u001b[1;33m\u001b[0m\u001b[1;33m\u001b[0m\u001b[0m\n",
            "\u001b[1;31mValueError\u001b[0m: This DataLoader does not contain any batches"
          ]
        }
      ],
      "source": [
        "dls.show_batch(max_n=9, figsize=(8, 9))"
      ]
    },
    {
      "cell_type": "code",
      "execution_count": null,
      "id": "70e31dad-af72-466e-9466-3a4358e833e0",
      "metadata": {
        "id": "70e31dad-af72-466e-9466-3a4358e833e0",
        "outputId": "c1b0064b-8628-48f6-c65a-01aeab46d00c"
      },
      "outputs": [
        {
          "data": {
            "text/plain": [
              "'Le'"
            ]
          },
          "execution_count": 103,
          "metadata": {},
          "output_type": "execute_result"
        }
      ],
      "source": [
        "dls.vocab[2]"
      ]
    },
    {
      "cell_type": "code",
      "execution_count": null,
      "id": "bb388b22-76a0-45ca-a8bd-4f810aacccb2",
      "metadata": {
        "id": "bb388b22-76a0-45ca-a8bd-4f810aacccb2",
        "outputId": "4e89223b-2658-4a28-d118-8f18ed0a9acc"
      },
      "outputs": [
        {
          "data": {
            "text/plain": [
              "['A', 'L', 'Le', 'N']"
            ]
          },
          "execution_count": 104,
          "metadata": {},
          "output_type": "execute_result"
        }
      ],
      "source": [
        "dls.vocab"
      ]
    },
    {
      "cell_type": "code",
      "execution_count": null,
      "id": "f6e2f7ed-e486-45e2-a6fe-bf70099bca56",
      "metadata": {
        "id": "f6e2f7ed-e486-45e2-a6fe-bf70099bca56",
        "outputId": "b8319a38-e60a-4644-96ab-8c231d9499de"
      },
      "outputs": [
        {
          "data": {
            "text/plain": [
              "2"
            ]
          },
          "execution_count": 105,
          "metadata": {},
          "output_type": "execute_result"
        }
      ],
      "source": [
        "dls.vocab.o2i.get(\"Le\")"
      ]
    },
    {
      "cell_type": "code",
      "execution_count": null,
      "id": "5776ff29-bd3d-481d-91a5-7530d8cca7c0",
      "metadata": {
        "id": "5776ff29-bd3d-481d-91a5-7530d8cca7c0",
        "outputId": "fbcf31e1-e1c9-43b4-a40f-658368834d75"
      },
      "outputs": [
        {
          "data": {
            "text/plain": [
              "{'A': 0, 'L': 1, 'Le': 2, 'N': 3}"
            ]
          },
          "execution_count": 106,
          "metadata": {},
          "output_type": "execute_result"
        }
      ],
      "source": [
        "dls.vocab.o2i"
      ]
    },
    {
      "cell_type": "code",
      "execution_count": null,
      "id": "6b11720e-b868-4d00-a613-e38ef7f2b230",
      "metadata": {
        "id": "6b11720e-b868-4d00-a613-e38ef7f2b230",
        "outputId": "853bc691-b1ac-4ca9-b6ac-ca69b204e424"
      },
      "outputs": [
        {
          "name": "stderr",
          "output_type": "stream",
          "text": [
            "C:\\Users\\Oranuch\\anaconda3\\lib\\site-packages\\fastai\\vision\\learner.py:288: UserWarning: `cnn_learner` has been renamed to `vision_learner` -- please update your code\n",
            "  warn(\"`cnn_learner` has been renamed to `vision_learner` -- please update your code\")\n",
            "C:\\Users\\Oranuch\\anaconda3\\lib\\site-packages\\torchvision\\models\\_utils.py:208: UserWarning: The parameter 'pretrained' is deprecated since 0.13 and may be removed in the future, please use 'weights' instead.\n",
            "  warnings.warn(\n",
            "C:\\Users\\Oranuch\\anaconda3\\lib\\site-packages\\torchvision\\models\\_utils.py:223: UserWarning: Arguments other than a weight enum or `None` for 'weights' are deprecated since 0.13 and may be removed in the future. The current behavior is equivalent to passing `weights=ResNet34_Weights.IMAGENET1K_V1`. You can also use `weights=ResNet34_Weights.DEFAULT` to get the most up-to-date weights.\n",
            "  warnings.warn(msg)\n"
          ]
        }
      ],
      "source": [
        "learn = cnn_learner(dls, resnet34, pretrained=True, metrics=error_rate).to_fp16()"
      ]
    },
    {
      "cell_type": "code",
      "execution_count": null,
      "id": "b239524b-b72e-4b11-8dfe-d789952c63ff",
      "metadata": {
        "id": "b239524b-b72e-4b11-8dfe-d789952c63ff",
        "outputId": "d16b78fa-91f1-4ae9-d493-555d76565666"
      },
      "outputs": [
        {
          "name": "stderr",
          "output_type": "stream",
          "text": [
            "C:\\Users\\Oranuch\\anaconda3\\lib\\site-packages\\torch\\amp\\autocast_mode.py:202: UserWarning: User provided device_type of 'cuda', but CUDA is not available. Disabling\n",
            "  warnings.warn('User provided device_type of \\'cuda\\', but CUDA is not available. Disabling')\n",
            "C:\\Users\\Oranuch\\anaconda3\\lib\\site-packages\\torch\\cuda\\amp\\grad_scaler.py:118: UserWarning: torch.cuda.amp.GradScaler is enabled, but CUDA is not available.  Disabling.\n",
            "  warnings.warn(\"torch.cuda.amp.GradScaler is enabled, but CUDA is not available.  Disabling.\")\n"
          ]
        },
        {
          "data": {
            "text/html": [
              "\n",
              "<style>\n",
              "    /* Turns off some styling */\n",
              "    progress {\n",
              "        /* gets rid of default border in Firefox and Opera. */\n",
              "        border: none;\n",
              "        /* Needs to be in here for Safari polyfill so background images work as expected. */\n",
              "        background-size: auto;\n",
              "    }\n",
              "    progress:not([value]), progress:not([value])::-webkit-progress-bar {\n",
              "        background: repeating-linear-gradient(45deg, #7e7e7e, #7e7e7e 10px, #5c5c5c 10px, #5c5c5c 20px);\n",
              "    }\n",
              "    .progress-bar-interrupted, .progress-bar-interrupted::-webkit-progress-bar {\n",
              "        background: #F44336;\n",
              "    }\n",
              "</style>\n"
            ],
            "text/plain": [
              "<IPython.core.display.HTML object>"
            ]
          },
          "metadata": {},
          "output_type": "display_data"
        },
        {
          "data": {
            "text/html": [
              "<table border=\"1\" class=\"dataframe\">\n",
              "  <thead>\n",
              "    <tr style=\"text-align: left;\">\n",
              "      <th>epoch</th>\n",
              "      <th>train_loss</th>\n",
              "      <th>valid_loss</th>\n",
              "      <th>error_rate</th>\n",
              "      <th>time</th>\n",
              "    </tr>\n",
              "  </thead>\n",
              "  <tbody>\n",
              "    <tr>\n",
              "      <td>0</td>\n",
              "      <td>nan</td>\n",
              "      <td>5.223201</td>\n",
              "      <td>0.714286</td>\n",
              "      <td>00:11</td>\n",
              "    </tr>\n",
              "    <tr>\n",
              "      <td>1</td>\n",
              "      <td>nan</td>\n",
              "      <td>5.223201</td>\n",
              "      <td>0.714286</td>\n",
              "      <td>00:10</td>\n",
              "    </tr>\n",
              "    <tr>\n",
              "      <td>2</td>\n",
              "      <td>nan</td>\n",
              "      <td>5.223201</td>\n",
              "      <td>0.714286</td>\n",
              "      <td>00:10</td>\n",
              "    </tr>\n",
              "    <tr>\n",
              "      <td>3</td>\n",
              "      <td>nan</td>\n",
              "      <td>5.223201</td>\n",
              "      <td>0.714286</td>\n",
              "      <td>00:10</td>\n",
              "    </tr>\n",
              "    <tr>\n",
              "      <td>4</td>\n",
              "      <td>nan</td>\n",
              "      <td>5.223201</td>\n",
              "      <td>0.714286</td>\n",
              "      <td>00:10</td>\n",
              "    </tr>\n",
              "    <tr>\n",
              "      <td>5</td>\n",
              "      <td>nan</td>\n",
              "      <td>5.223201</td>\n",
              "      <td>0.714286</td>\n",
              "      <td>00:09</td>\n",
              "    </tr>\n",
              "    <tr>\n",
              "      <td>6</td>\n",
              "      <td>nan</td>\n",
              "      <td>5.223201</td>\n",
              "      <td>0.714286</td>\n",
              "      <td>00:10</td>\n",
              "    </tr>\n",
              "    <tr>\n",
              "      <td>7</td>\n",
              "      <td>nan</td>\n",
              "      <td>5.223201</td>\n",
              "      <td>0.714286</td>\n",
              "      <td>00:09</td>\n",
              "    </tr>\n",
              "    <tr>\n",
              "      <td>8</td>\n",
              "      <td>nan</td>\n",
              "      <td>5.223201</td>\n",
              "      <td>0.714286</td>\n",
              "      <td>00:09</td>\n",
              "    </tr>\n",
              "    <tr>\n",
              "      <td>9</td>\n",
              "      <td>nan</td>\n",
              "      <td>5.223201</td>\n",
              "      <td>0.714286</td>\n",
              "      <td>00:10</td>\n",
              "    </tr>\n",
              "    <tr>\n",
              "      <td>10</td>\n",
              "      <td>nan</td>\n",
              "      <td>5.223201</td>\n",
              "      <td>0.714286</td>\n",
              "      <td>00:10</td>\n",
              "    </tr>\n",
              "    <tr>\n",
              "      <td>11</td>\n",
              "      <td>nan</td>\n",
              "      <td>5.223201</td>\n",
              "      <td>0.714286</td>\n",
              "      <td>00:10</td>\n",
              "    </tr>\n",
              "    <tr>\n",
              "      <td>12</td>\n",
              "      <td>nan</td>\n",
              "      <td>5.223201</td>\n",
              "      <td>0.714286</td>\n",
              "      <td>00:10</td>\n",
              "    </tr>\n",
              "    <tr>\n",
              "      <td>13</td>\n",
              "      <td>nan</td>\n",
              "      <td>5.223201</td>\n",
              "      <td>0.714286</td>\n",
              "      <td>00:09</td>\n",
              "    </tr>\n",
              "    <tr>\n",
              "      <td>14</td>\n",
              "      <td>nan</td>\n",
              "      <td>5.223201</td>\n",
              "      <td>0.714286</td>\n",
              "      <td>00:10</td>\n",
              "    </tr>\n",
              "    <tr>\n",
              "      <td>15</td>\n",
              "      <td>nan</td>\n",
              "      <td>5.223201</td>\n",
              "      <td>0.714286</td>\n",
              "      <td>00:10</td>\n",
              "    </tr>\n",
              "    <tr>\n",
              "      <td>16</td>\n",
              "      <td>nan</td>\n",
              "      <td>5.223201</td>\n",
              "      <td>0.714286</td>\n",
              "      <td>00:10</td>\n",
              "    </tr>\n",
              "    <tr>\n",
              "      <td>17</td>\n",
              "      <td>nan</td>\n",
              "      <td>5.223201</td>\n",
              "      <td>0.714286</td>\n",
              "      <td>00:10</td>\n",
              "    </tr>\n",
              "    <tr>\n",
              "      <td>18</td>\n",
              "      <td>nan</td>\n",
              "      <td>5.223201</td>\n",
              "      <td>0.714286</td>\n",
              "      <td>00:10</td>\n",
              "    </tr>\n",
              "    <tr>\n",
              "      <td>19</td>\n",
              "      <td>nan</td>\n",
              "      <td>5.223201</td>\n",
              "      <td>0.714286</td>\n",
              "      <td>00:09</td>\n",
              "    </tr>\n",
              "  </tbody>\n",
              "</table>"
            ],
            "text/plain": [
              "<IPython.core.display.HTML object>"
            ]
          },
          "metadata": {},
          "output_type": "display_data"
        },
        {
          "name": "stderr",
          "output_type": "stream",
          "text": [
            "C:\\Users\\Oranuch\\anaconda3\\lib\\site-packages\\fastprogress\\fastprogress.py:73: UserWarning: Your generator is empty.\n",
            "  warn(\"Your generator is empty.\")\n"
          ]
        }
      ],
      "source": [
        "learn.fit_one_cycle(20)"
      ]
    },
    {
      "cell_type": "code",
      "execution_count": null,
      "id": "2cb75192-b37a-411d-b252-3ca3740ee04f",
      "metadata": {
        "id": "2cb75192-b37a-411d-b252-3ca3740ee04f"
      },
      "outputs": [],
      "source": [
        "learn.save(\"01i-stage1\")"
      ]
    },
    {
      "cell_type": "code",
      "execution_count": null,
      "id": "208cdafb-ed20-45bf-bdcf-eed12f337c34",
      "metadata": {
        "id": "208cdafb-ed20-45bf-bdcf-eed12f337c34"
      },
      "outputs": [],
      "source": [
        "learn.recorder.plot_loss()"
      ]
    },
    {
      "cell_type": "code",
      "execution_count": null,
      "id": "013532cf-67d8-46f0-8bcd-d9dd99391a45",
      "metadata": {
        "id": "013532cf-67d8-46f0-8bcd-d9dd99391a45"
      },
      "outputs": [],
      "source": [
        "learn.recorder.plot_sched()"
      ]
    },
    {
      "cell_type": "code",
      "execution_count": null,
      "id": "dfb64df3-1ea9-4994-b49b-35956dd48e4e",
      "metadata": {
        "id": "dfb64df3-1ea9-4994-b49b-35956dd48e4e"
      },
      "outputs": [],
      "source": [
        "learn.show_results()"
      ]
    },
    {
      "cell_type": "code",
      "execution_count": null,
      "id": "706153e2-6f08-409e-a8b1-bb4b44890aa3",
      "metadata": {
        "id": "706153e2-6f08-409e-a8b1-bb4b44890aa3"
      },
      "outputs": [],
      "source": [
        "interp = ClassificationInterpretation.from_learner(learn)\n",
        "losses, idxs = interp.top_losses()\n",
        "\n",
        "len(dls.valid_ds) == len(losses) == len(idxs)"
      ]
    },
    {
      "cell_type": "code",
      "execution_count": null,
      "id": "7596d496-43a1-4962-bbed-a962afc04b86",
      "metadata": {
        "id": "7596d496-43a1-4962-bbed-a962afc04b86"
      },
      "outputs": [],
      "source": [
        "interp.plot_top_losses(4, figsize=(14, 10))"
      ]
    },
    {
      "cell_type": "code",
      "execution_count": null,
      "id": "4c44f719-767e-4422-bb67-1b5760023dfb",
      "metadata": {
        "id": "4c44f719-767e-4422-bb67-1b5760023dfb"
      },
      "outputs": [],
      "source": [
        "interp.plot_confusion_matrix(figsize=(12, 12), dpi=72)"
      ]
    },
    {
      "cell_type": "code",
      "execution_count": null,
      "id": "95d64cda-4b44-4f07-afff-bc34aa2c4056",
      "metadata": {
        "id": "95d64cda-4b44-4f07-afff-bc34aa2c4056"
      },
      "outputs": [],
      "source": [
        "interp.most_confused(min_val=3)"
      ]
    },
    {
      "cell_type": "code",
      "execution_count": null,
      "id": "df01747f-7da4-444d-8ec5-cb74065434eb",
      "metadata": {
        "id": "df01747f-7da4-444d-8ec5-cb74065434eb"
      },
      "outputs": [],
      "source": [
        "learn.load(\"01i-stage1\")"
      ]
    },
    {
      "cell_type": "code",
      "execution_count": null,
      "id": "fd209ef1-e44e-4d70-b576-c4c33acd9a76",
      "metadata": {
        "id": "fd209ef1-e44e-4d70-b576-c4c33acd9a76"
      },
      "outputs": [],
      "source": [
        "learn.unfreeze()"
      ]
    },
    {
      "cell_type": "code",
      "execution_count": null,
      "id": "94ed8f3d-35bd-49d4-83e5-5537f78e71a7",
      "metadata": {
        "id": "94ed8f3d-35bd-49d4-83e5-5537f78e71a7"
      },
      "outputs": [],
      "source": [
        "learn.fit_one_cycle(2)"
      ]
    },
    {
      "cell_type": "code",
      "execution_count": null,
      "id": "e1a956d3-d45d-42bd-9ff9-8af3f2cd2d70",
      "metadata": {
        "id": "e1a956d3-d45d-42bd-9ff9-8af3f2cd2d70"
      },
      "outputs": [],
      "source": [
        "learn.load(\"01i-stage1\")"
      ]
    },
    {
      "cell_type": "code",
      "execution_count": null,
      "id": "5d0a9346-38ee-431d-896a-409d0d17cb98",
      "metadata": {
        "id": "5d0a9346-38ee-431d-896a-409d0d17cb98"
      },
      "outputs": [],
      "source": [
        "learn.unfreeze()"
      ]
    },
    {
      "cell_type": "code",
      "execution_count": null,
      "id": "6b9fe461-93c6-43b1-819a-955d38eb7bc3",
      "metadata": {
        "id": "6b9fe461-93c6-43b1-819a-955d38eb7bc3"
      },
      "outputs": [],
      "source": [
        "learn.lr_find()"
      ]
    },
    {
      "cell_type": "code",
      "execution_count": null,
      "id": "5f58b173-f92b-482b-8974-fb323be8bf4d",
      "metadata": {
        "id": "5f58b173-f92b-482b-8974-fb323be8bf4d"
      },
      "outputs": [],
      "source": [
        "learn.fit_one_cycle(3, lr_max=slice(3e-7, 3e-5))"
      ]
    },
    {
      "cell_type": "code",
      "execution_count": null,
      "id": "1c0c8389-54f0-4bfe-b2ef-00dfe0ba616f",
      "metadata": {
        "id": "1c0c8389-54f0-4bfe-b2ef-00dfe0ba616f"
      },
      "outputs": [],
      "source": [
        "learn.save('01i-stage2')"
      ]
    },
    {
      "cell_type": "code",
      "execution_count": null,
      "id": "7ed816d6-e8ed-4acc-97cd-53e2bf0915cb",
      "metadata": {
        "id": "7ed816d6-e8ed-4acc-97cd-53e2bf0915cb"
      },
      "outputs": [],
      "source": [
        "learn = cnn_learner(dls, resnet50, pretrained=True, metrics=error_rate).to_fp16()"
      ]
    },
    {
      "cell_type": "code",
      "execution_count": null,
      "id": "772cb2ac-1c2c-4a3e-92ba-7bd9cf6f1ada",
      "metadata": {
        "id": "772cb2ac-1c2c-4a3e-92ba-7bd9cf6f1ada"
      },
      "outputs": [],
      "source": [
        "learn.fine_tune(6)"
      ]
    },
    {
      "cell_type": "code",
      "execution_count": null,
      "id": "6c5b6116-fdd6-4d79-bc68-c6d1e7326ce6",
      "metadata": {
        "id": "6c5b6116-fdd6-4d79-bc68-c6d1e7326ce6"
      },
      "outputs": [],
      "source": []
    }
  ],
  "metadata": {
    "kernelspec": {
      "display_name": "Python 3 (ipykernel)",
      "language": "python",
      "name": "python3"
    },
    "language_info": {
      "codemirror_mode": {
        "name": "ipython",
        "version": 3
      },
      "file_extension": ".py",
      "mimetype": "text/x-python",
      "name": "python",
      "nbconvert_exporter": "python",
      "pygments_lexer": "ipython3",
      "version": "3.9.7"
    },
    "colab": {
      "provenance": []
    }
  },
  "nbformat": 4,
  "nbformat_minor": 5
}